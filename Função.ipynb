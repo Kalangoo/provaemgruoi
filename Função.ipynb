{
 "cells": [
  {
   "cell_type": "markdown",
   "metadata": {},
   "source": [
    "1. Faça um programa para imprimir:\n",
    "\n",
    "       1\n",
    "       2 2\n",
    "       3 3 3\n",
    "       .....\n",
    "       n n n n n n ... n\n",
    "       para um n informado pelo usuário. Use uma função que receba um valor n inteiro e imprima até a n-ésima linha."
   ]
  },
  {
   "cell_type": "code",
   "execution_count": null,
   "metadata": {},
   "outputs": [],
   "source": [
    "def escada(n):\n",
    "    for c in range(1, n + 1):\n",
    "        cont = 1\n",
    "        while True:\n",
    "            print(c, end=' ')\n",
    "            if cont == c:\n",
    "                break\n",
    "            cont += 1\n",
    "        print()\n",
    "        \n",
    "n = int(input('Digite um número: '))\n",
    "escada(n)"
   ]
  },
  {
   "cell_type": "markdown",
   "metadata": {},
   "source": [
    "2. Faça um programa, com uma função que necessite de um argumento. A função retorna o valor de caractere ‘P’, se seu argumento for positivo, e ‘N’, se seu argumento for zero ou negativo."
   ]
  },
  {
   "cell_type": "code",
   "execution_count": null,
   "metadata": {},
   "outputs": [],
   "source": [
    "def pn(n):\n",
    "    if n > 0:\n",
    "        print('Positivo')\n",
    "    elif n == 0:\n",
    "        print('Nulo')\n",
    "    else:\n",
    "        print('Negativo')\n",
    "\n",
    "print('POSITIVO OU NEGATIVO')\n",
    "n = int(input('digite um número: '))\n",
    "print('Este número é', end=' ')\n",
    "pn(n)"
   ]
  },
  {
   "cell_type": "markdown",
   "metadata": {},
   "source": [
    "3. Reverso do número. Faça uma função que retorne o reverso de um número inteiro informado. Por exemplo: 127 -> 721."
   ]
  },
  {
   "cell_type": "code",
   "execution_count": null,
   "metadata": {},
   "outputs": [],
   "source": [
    "def reverso(n):\n",
    "    return str(n[::-1])\n",
    "\n",
    "n = str(input('Digite um número: ')).strip()\n",
    "print(f'Reverso: {reverso(n)}')"
   ]
  },
  {
   "cell_type": "markdown",
   "metadata": {},
   "source": [
    "4. Faça um programa com uma função chamada somaImposto. A função possui dois parâmetros formais: taxaImposto, que é a quantia de imposto sobre vendas expressa em porcentagem e custo, que é o custo de um item antes do imposto. A função “altera” o valor de custo para incluir o imposto sobre vendas."
   ]
  },
  {
   "cell_type": "code",
   "execution_count": null,
   "metadata": {},
   "outputs": [],
   "source": [
    "def somaImposto(taxaImposto, Custo):\n",
    "    return (1 + taxaImposto/100)*Custo\n",
    "t = float(input('Digite a taxa de imposto: '))\n",
    "c = float(input('Digite o custo: '))\n",
    "print('Valor com imposto:', somaImposto(t,c))"
   ]
  },
  {
   "cell_type": "markdown",
   "metadata": {},
   "source": [
    "5. Faça uma função que informe a quantidade de dígitos de um determinado número inteiro informado."
   ]
  },
  {
   "cell_type": "code",
   "execution_count": null,
   "metadata": {},
   "outputs": [],
   "source": [
    "def inteiros(n):\n",
    "    return len((str(n)))\n",
    "\n",
    "n = str(input('Digite um número: ')).strip()\n",
    "print(f'Esse número tem {inteiros(n)} dígitos')"
   ]
  },
  {
   "cell_type": "markdown",
   "metadata": {},
   "source": [
    "6. Faça um programa, com uma função que necessite de um argumento. A função retorna o valor de caractere ‘P’, se seu argumento for positivo, e ‘N’, se seu argumento for zero ou negativo."
   ]
  },
  {
   "cell_type": "code",
   "execution_count": null,
   "metadata": {},
   "outputs": [],
   "source": [
    "def pn(n):\n",
    "    if n > 0:\n",
    "        print('Positivo')\n",
    "    elif n == 0:\n",
    "        print('Nulo')\n",
    "    else:\n",
    "        print('Negativo')\n",
    "\n",
    "print('POSITIVO OU NEGATIVO')\n",
    "n = int(input('digite um número: '))\n",
    "print('Este número é', end=' ')\n",
    "pn(n)"
   ]
  }
 ],
 "metadata": {
  "kernelspec": {
   "display_name": "Python 3",
   "language": "python",
   "name": "python3"
  },
  "language_info": {
   "codemirror_mode": {
    "name": "ipython",
    "version": 3
   },
   "file_extension": ".py",
   "mimetype": "text/x-python",
   "name": "python",
   "nbconvert_exporter": "python",
   "pygments_lexer": "ipython3",
   "version": "3.12.0b4"
  },
  "orig_nbformat": 4
 },
 "nbformat": 4,
 "nbformat_minor": 2
}
