{
 "cells": [
  {
   "cell_type": "markdown",
   "metadata": {},
   "source": [
    "1. Tamanho de strings. Faça um programa que leia 2 strings e informe o conteúdo delas seguido do seu comprimento. Informe também se as duas strings possuem o mesmo comprimento e são iguais ou diferentes no conteúdo.\n",
    "\n",
    "Compara duas strings\n",
    "\n",
    "String 1: Brasil Hexa 2006\n",
    "String 2: Brasil! Hexa 2006!\n",
    "Tamanho de \"Brasil Hexa 2006\": 16 caracteres\n",
    "Tamanho de \"Brasil! Hexa 2006!\": 18 caracteres\n",
    "As duas strings são de tamanhos diferentes.\n",
    "As duas strings possuem conteúdo diferente."
   ]
  },
  {
   "cell_type": "code",
   "execution_count": null,
   "metadata": {},
   "outputs": [],
   "source": [
    "def comparar_strings():\n",
    "    string1 = input(\"Digite a primeira string: \")\n",
    "    string2 = input(\"Digite a segunda string: \")\n",
    "    comprimento_string1 = len(string1)\n",
    "    comprimento_string2 = len(string2)\n",
    "    print(\"Conteúdo da primeira string:\", string1)\n",
    "    print(\"Comprimento da primeira string:\", comprimento_string1)\n",
    "    print(\"Conteúdo da segunda string:\", string2)\n",
    "    print(\"Comprimento da segunda string:\", comprimento_string2)\n",
    "    if comprimento_string1 == comprimento_string2:\n",
    "        print(\"As duas strings possuem o mesmo comprimento.\")\n",
    "    else:\n",
    "        print(\"As duas strings têm comprimentos diferentes.\")\n",
    "    if string1 == string2:\n",
    "        print(\"As duas strings são iguais.\")\n",
    "    else:\n",
    "        print(\"As duas strings são diferentes.\")\n",
    "\n",
    "comparar_strings()"
   ]
  },
  {
   "cell_type": "markdown",
   "metadata": {},
   "source": [
    "2. Nome ao contrário em maiúsculas. Faça um programa que permita ao usuário digitar o seu nome e em seguida mostre o nome do usuário de trás para frente utilizando somente letras maiúsculas. Dica: lembre−se que ao informar o nome o usuário pode digitar letras maiúsculas ou minúsculas."
   ]
  },
  {
   "cell_type": "code",
   "execution_count": null,
   "metadata": {},
   "outputs": [],
   "source": [
    "def nome_ao_contrario_maiusculo():\n",
    "    nome = input(\"Digite o seu nome: \")\n",
    "    nome_maiusculo = nome.upper()\n",
    "    nome_invertido = nome_maiusculo[::-1]\n",
    "    print(\"Nome ao contrário em maiúsculas:\", nome_invertido)\n",
    "nome_ao_contrario_maiusculo()"
   ]
  },
  {
   "cell_type": "markdown",
   "metadata": {},
   "source": [
    "3. Nome na vertical. Faça um programa que solicite o nome do usuário e imprima-o na vertical."
   ]
  },
  {
   "cell_type": "code",
   "execution_count": null,
   "metadata": {},
   "outputs": [],
   "source": [
    "def nome_vertical():\n",
    "    nome = input(\"Digite o seu nome: \")\n",
    "    for letra in nome:\n",
    "        print(letra)\n",
    "nome_vertical()"
   ]
  },
  {
   "cell_type": "markdown",
   "metadata": {},
   "source": [
    "4. Nome na vertical em escada. Modifique o programa anterior de forma a mostrar o nome em formato de escada."
   ]
  },
  {
   "cell_type": "code",
   "execution_count": null,
   "metadata": {},
   "outputs": [],
   "source": [
    "def nome_escada():\n",
    "    nome = input(\"Digite o seu nome: \")\n",
    "    for i in range(len(nome)):\n",
    "        print(nome[:i+1])\n",
    "nome_escada()"
   ]
  },
  {
   "cell_type": "markdown",
   "metadata": {},
   "source": [
    "5. Nome na vertical em escada invertida. Altere o programa anterior de modo que a escada seja invertida.\n",
    "\n",
    "FULANO\n",
    "FULAN\n",
    "FULA\n",
    "FUL\n",
    "FU\n",
    "F"
   ]
  },
  {
   "cell_type": "code",
   "execution_count": null,
   "metadata": {},
   "outputs": [],
   "source": [
    "def nome_escada_invertida():\n",
    "    nome = input(\"Digite o seu nome: \")\n",
    "    for i in range(len(nome), 0, -1):\n",
    "        print(nome[:i])\n",
    "nome_escada_invertida()"
   ]
  }
 ],
 "metadata": {
  "language_info": {
   "name": "python"
  },
  "orig_nbformat": 4
 },
 "nbformat": 4,
 "nbformat_minor": 2
}
