{
 "cells": [
  {
   "cell_type": "markdown",
   "metadata": {},
   "source": [
    "1. Tamanho de strings. Faça um programa que leia 2 strings e informe o conteúdo delas seguido do seu comprimento. Informe também se as duas strings possuem o mesmo comprimento e são iguais ou diferentes no conteúdo.\n",
    "\n",
    "Compara duas strings\n",
    "\n",
    "String 1: Brasil Hexa 2006\n",
    "String 2: Brasil! Hexa 2006!\n",
    "Tamanho de \"Brasil Hexa 2006\": 16 caracteres\n",
    "Tamanho de \"Brasil! Hexa 2006!\": 18 caracteres\n",
    "As duas strings são de tamanhos diferentes.\n",
    "As duas strings possuem conteúdo diferente."
   ]
  },
  {
   "cell_type": "code",
   "execution_count": null,
   "metadata": {},
   "outputs": [],
   "source": [
    "def comparar_strings():\n",
    "    string1 = input(\"Digite a primeira string: \")\n",
    "    string2 = input(\"Digite a segunda string: \")\n",
    "    comprimento_string1 = len(string1)\n",
    "    comprimento_string2 = len(string2)\n",
    "    print(\"Conteúdo da primeira string:\", string1)\n",
    "    print(\"Comprimento da primeira string:\", comprimento_string1)\n",
    "    print(\"Conteúdo da segunda string:\", string2)\n",
    "    print(\"Comprimento da segunda string:\", comprimento_string2)\n",
    "    if comprimento_string1 == comprimento_string2:\n",
    "        print(\"As duas strings possuem o mesmo comprimento.\")\n",
    "    else:\n",
    "        print(\"As duas strings têm comprimentos diferentes.\")\n",
    "    if string1 == string2:\n",
    "        print(\"As duas strings são iguais.\")\n",
    "    else:\n",
    "        print(\"As duas strings são diferentes.\")\n",
    "\n",
    "comparar_strings()"
   ]
  },
  {
   "cell_type": "markdown",
   "metadata": {},
   "source": [
    "2. Nome ao contrário em maiúsculas. Faça um programa que permita ao usuário digitar o seu nome e em seguida mostre o nome do usuário de trás para frente utilizando somente letras maiúsculas. Dica: lembre−se que ao informar o nome o usuário pode digitar letras maiúsculas ou minúsculas."
   ]
  },
  {
   "cell_type": "code",
   "execution_count": null,
   "metadata": {},
   "outputs": [],
   "source": [
    "def nome_ao_contrario_maiusculo():\n",
    "    nome = input(\"Digite o seu nome: \")\n",
    "    nome_maiusculo = nome.upper()\n",
    "    nome_invertido = nome_maiusculo[::-1]\n",
    "    print(\"Nome ao contrário em maiúsculas:\", nome_invertido)\n",
    "nome_ao_contrario_maiusculo()"
   ]
  },
  {
   "cell_type": "markdown",
   "metadata": {},
   "source": [
    "3. Nome na vertical. Faça um programa que solicite o nome do usuário e imprima-o na vertical."
   ]
  },
  {
   "cell_type": "code",
   "execution_count": null,
   "metadata": {},
   "outputs": [],
   "source": [
    "def nome_vertical():\n",
    "    nome = input(\"Digite o seu nome: \")\n",
    "    for letra in nome:\n",
    "        print(letra)\n",
    "nome_vertical()"
   ]
  },
  {
   "cell_type": "markdown",
   "metadata": {},
   "source": [
    "4. Nome na vertical em escada. Modifique o programa anterior de forma a mostrar o nome em formato de escada."
   ]
  },
  {
   "cell_type": "code",
   "execution_count": null,
   "metadata": {},
   "outputs": [],
   "source": [
    "def nome_escada():\n",
    "    nome = input(\"Digite o seu nome: \")\n",
    "    for i in range(len(nome)):\n",
    "        print(nome[:i+1])\n",
    "nome_escada()"
   ]
  },
  {
   "cell_type": "markdown",
   "metadata": {},
   "source": [
    "5. Nome na vertical em escada invertida. Altere o programa anterior de modo que a escada seja invertida.\n",
    "\n",
    "FULANO\n",
    "FULAN\n",
    "FULA\n",
    "FUL\n",
    "FU\n",
    "F"
   ]
  },
  {
   "cell_type": "code",
   "execution_count": null,
   "metadata": {},
   "outputs": [],
   "source": [
    "def nome_escada_invertida():\n",
    "    nome = input(\"Digite o seu nome: \")\n",
    "    for i in range(len(nome), 0, -1):\n",
    "        print(nome[:i])\n",
    "nome_escada_invertida()"
   ]
  },
  {
   "cell_type": "markdown",
   "metadata": {},
   "source": [
    "6. Conta espaços e vogais. Dado uma string com uma frase informada pelo usuário (incluindo espaços em branco), conte:\n",
    "\n",
    "      Quantos espaços em branco existem na frase.\n",
    "      \n",
    "      Quantas vezes aparecem as vogais a, e, i, o, u."
   ]
  },
  {
   "cell_type": "code",
   "execution_count": null,
   "metadata": {},
   "outputs": [],
   "source": [
    "def contar_espacos(frase):\n",
    "    espacos_em_branco = 0\n",
    "    for caractere in frase:\n",
    "        if caractere == ' ':\n",
    "            espacos_em_branco += 1\n",
    "    return espacos_em_branco\n",
    "frase = input(\"Digite uma frase: \")\n",
    "espacos_contados = contar_espacos(frase)\n",
    "print(\"Número de espaços em branco na frase:\", espacos_contados)"
   ]
  },
  {
   "cell_type": "markdown",
   "metadata": {},
   "source": [
    "7. Número por extenso. Escreva um programa que solicite ao usuário a digitação de um número até 99 e imprima-o na tela por extenso.\n"
   ]
  },
  {
   "cell_type": "code",
   "execution_count": null,
   "metadata": {},
   "outputs": [],
   "source": [
    "def converter_em_texto(numeral):\n",
    "    dicionario_numerico = {\n",
    "0: 'zero', 1: 'um', 2: 'dois', 3: 'três', 4: 'quatro', 5: 'cinco',\n",
    "6: 'seis', 7: 'sete', 8: 'oito', 9: 'nove', 10: 'dez',\n",
    "11: 'onze', 12: 'doze', 13: 'treze', 14: 'quatorze', 15: 'quinze',\n",
    "16: 'dezesseis', 17: 'dezessete', 18: 'dezoito', 19: 'dezenove', 20: 'vinte',\n",
    "30: 'trinta', 40: 'quarenta', 50: 'cinquenta', 60: 'sessenta', 70: 'setenta',\n",
    "80: 'oitenta', 90: 'noventa',\n",
    "}\n",
    "\n",
    "    if numeral > 99 or numeral < 0:\n",
    "        raise ValueError('O número deve estar entre 0 e 99 (inclusive)')\n",
    "\n",
    "    if numeral < 20 or numeral % 10 == 0:\n",
    "        return dicionario_numerico.get(numeral)\n",
    "\n",
    "    decimal = numeral // 10 * 10\n",
    "    unidade = numeral % 10\n",
    "    extenso = f'{dicionario_numerico.get(decimal)} e {dicionario_numerico.get(unidade)}'\n",
    "    return extenso\n",
    "\n",
    "\n",
    "if __name__ == '__main__':\n",
    "    print('Insira um número:')\n",
    "numeral = int(input())\n",
    "numero_por_extenso = converter_em_texto(numeral)\n",
    "print(numero_por_extenso)"
   ]
  }
 ],
 "metadata": {
  "kernelspec": {
   "display_name": "Python 3",
   "language": "python",
   "name": "python3"
  },
  "language_info": {
   "codemirror_mode": {
    "name": "ipython",
    "version": 3
   },
   "file_extension": ".py",
   "mimetype": "text/x-python",
   "name": "python",
   "nbconvert_exporter": "python",
   "pygments_lexer": "ipython3",
   "version": "3.12.0b4"
  },
  "orig_nbformat": 4
 },
 "nbformat": 4,
 "nbformat_minor": 2
}
