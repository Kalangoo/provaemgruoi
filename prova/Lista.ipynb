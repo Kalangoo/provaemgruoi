{
 "cells": [
  {
   "cell_type": "markdown",
   "metadata": {},
   "source": [
    "1. Faça um Programa que leia 20 números inteiros e armazene-os num vetor. Armazene os números pares no vetor PAR e os números ÍMPARES no vetor ímpar. Imprima os três vetores."
   ]
  },
  {
   "cell_type": "code",
   "execution_count": null,
   "metadata": {},
   "outputs": [],
   "source": [
    "numeros = []\n",
    "pares = []\n",
    "impares = []\n",
    "for _ in range(20):\n",
    "    numero = int(input(\"Digite um número inteiro: \"))\n",
    "    numeros.append(numero)\n",
    "\n",
    "    \n",
    "    if numero % 2 == 0:\n",
    "        pares.append(numero)\n",
    "    else:\n",
    "        impares.append(numero)\n",
    "\n",
    "\n",
    "print(\"Números digitados:\", numeros)\n",
    "print(\"Números pares:\", pares)\n",
    "print(\"Números ímpares:\", impares)"
   ]
  },
  {
   "cell_type": "markdown",
   "metadata": {},
   "source": [
    "2. Faça um Programa que leia um vetor de 5 números inteiros e mostre-os."
   ]
  },
  {
   "cell_type": "code",
   "execution_count": null,
   "metadata": {},
   "outputs": [],
   "source": [
    "numeros = []\n",
    "for _ in range(5):\n",
    "    numero = int(input(\"Digite um número inteiro: \"))\n",
    "    numeros.append(numero)\n",
    "print(\"Números digitados:\", numeros)"
   ]
  },
  {
   "cell_type": "markdown",
   "metadata": {},
   "source": [
    "3. Faça um Programa que leia um vetor de 10 números reais e mostre-os na ordem inversa."
   ]
  },
  {
   "cell_type": "code",
   "execution_count": null,
   "metadata": {},
   "outputs": [],
   "source": [
    "numeros = []\n",
    "for _ in range(10):\n",
    "    numero = int(input(\"Digite um número inteiro: \"))\n",
    "    numeros.append(numero)\n",
    "print(\"Números digitados:\", list(reversed(numeros)))"
   ]
  },
  {
   "cell_type": "markdown",
   "metadata": {},
   "source": [
    "4. Faça um Programa que leia 4 notas, mostre as notas e a média na tela"
   ]
  },
  {
   "cell_type": "code",
   "execution_count": null,
   "metadata": {},
   "outputs": [],
   "source": [
    "notas = []\n",
    "\n",
    "for i in range(4):\n",
    "    nota = float(input(f\"Digite a {i+1}ª nota: \"))\n",
    "    notas.append(nota)\n",
    "\n",
    "media = sum(notas) / len(notas)\n",
    "\n",
    "print(\"Notas digitadas:\", notas)\n",
    "print(\"Média das notas:\", media)"
   ]
  },
  {
   "cell_type": "markdown",
   "metadata": {},
   "source": [
    "5. Faça um Programa que leia um vetor de 5 números inteiros, mostre a soma, a multiplicação e os números."
   ]
  },
  {
   "cell_type": "code",
   "execution_count": null,
   "metadata": {},
   "outputs": [],
   "source": [
    "\n",
    "numeros = []\n",
    "for _ in range(5):\n",
    "    numero = int(input(\"Digite um número inteiro: \"))\n",
    "    numeros.append(numero)\n",
    "soma = sum(numeros)\n",
    "multiplicacao = 1\n",
    "for numero in numeros:\n",
    "    multiplicacao *= numero\n",
    "print(\"Números digitados:\", numeros)\n",
    "print(\"Soma dos números:\", soma)\n",
    "print(\"Multiplicação dos números:\", multiplicacao)\n"
   ]
  },
  {
   "cell_type": "markdown",
   "metadata": {},
   "source": [
    "6. Utilizando listas faça um programa que faça 5 perguntas para uma pessoa sobre\n",
    "um crime. As perguntas são:\n",
    "\n",
    "a. \"Telefonou para a vítima?\"\n",
    "b. \"Esteve no local do crime?\"\n",
    "c. \"Mora perto da vítima?\"\n",
    "d. \"Devia para a vítima?\"\n",
    "e. \"Já trabalhou com a vítima?\"\n",
    "\n",
    "O programa deve no final emitir uma\n",
    "classificação sobre a participação da pessoa no crime. Se a pessoa\n",
    "responder positivamente a 2 questões ela deve ser classificada como\n",
    "\"Suspeita\", entre 3 e 4 como \"Cúmplice\" e 5 como \"Assassino\". Caso\n",
    "contrário, ele será classificado como \"Inocente\""
   ]
  },
  {
   "cell_type": "code",
   "execution_count": null,
   "metadata": {},
   "outputs": [],
   "source": [
    "perguntas = [\n",
    "    \"Telefonou para a vítima?\",\n",
    "    \"Esteve no local do crime?\",\n",
    "    \"Mora perto da vítima?\",\n",
    "    \"Devia para a vítima?\",\n",
    "    \"Já trabalhou com a vítima?\"\n",
    "]\n",
    "\n",
    "respostas = []\n",
    "\n",
    "for pergunta in perguntas:\n",
    "    resposta = input(pergunta + \" (responda sim ou não): \")\n",
    "    if resposta.lower() == \"sim\":\n",
    "        respostas.append(True)\n",
    "    else:\n",
    "        respostas.append(False)\n",
    "\n",
    "\n",
    "num_respostas_positivas = sum(respostas)\n",
    "\n",
    "\n",
    "if num_respostas_positivas == 2:\n",
    "    print(\"Suspeita\")\n",
    "elif 3 <= num_respostas_positivas <= 4:\n",
    "    print(\"Cúmplice\")\n",
    "elif num_respostas_positivas == 5:\n",
    "    print(\"Assassino\")\n",
    "else:\n",
    "    print(\"Inocente\")"
   ]
  },
  {
   "cell_type": "markdown",
   "metadata": {},
   "source": [
    "7. Faça um Programa que leia um vetor A com 10 números inteiros, calcule e mostre a soma dos quadrados dos elementos do vetor."
   ]
  },
  {
   "cell_type": "code",
   "execution_count": 2,
   "metadata": {},
   "outputs": [
    {
     "name": "stdout",
     "output_type": "stream",
     "text": [
      "A soma dos quadrados dos elementos do vetor é: 4356\n"
     ]
    }
   ],
   "source": [
    "def calcular_soma_quadrados(vetor):\n",
    "    soma = 0\n",
    "    for numero in vetor:\n",
    "        soma += numero ** 2\n",
    "    return soma\n",
    "def main():\n",
    "    vetor_A = []\n",
    "    for i in range(10):\n",
    "        numero = int(input(f\"Digite o {i+1}º número inteiro: \"))\n",
    "    vetor_A.append(numero)\n",
    "\n",
    "    soma_quadrados = calcular_soma_quadrados(vetor_A)\n",
    "    print(\"A soma dos quadrados dos elementos do vetor é:\", soma_quadrados)\n",
    "\n",
    "if __name__ == \"__main__\":\n",
    "    main()"
   ]
  }
 ],
 "metadata": {
  "kernelspec": {
   "display_name": "Python 3",
   "language": "python",
   "name": "python3"
  },
  "language_info": {
   "codemirror_mode": {
    "name": "ipython",
    "version": 3
   },
   "file_extension": ".py",
   "mimetype": "text/x-python",
   "name": "python",
   "nbconvert_exporter": "python",
   "pygments_lexer": "ipython3",
   "version": "3.12.0b4"
  },
  "orig_nbformat": 4
 },
 "nbformat": 4,
 "nbformat_minor": 2
}
