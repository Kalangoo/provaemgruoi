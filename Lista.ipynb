{
 "cells": [
  {
   "cell_type": "markdown",
   "metadata": {},
   "source": [
    "Faça um Programa que leia 20 números inteiros e armazene-os num vetor.\n",
    "Armazene os números pares no vetor PAR e os números ÍMPARES no vetor ímpar.\n",
    "Imprima os três vetores."
   ]
  },
  {
   "cell_type": "code",
   "execution_count": null,
   "metadata": {},
   "outputs": [],
   "source": [
    "numeros = []\n",
    "pares = []\n",
    "impares = []\n",
    "for _ in range(20):\n",
    "    numero = int(input(\"Digite um número inteiro: \"))\n",
    "    numeros.append(numero)\n",
    "\n",
    "    \n",
    "    if numero % 2 == 0:\n",
    "        pares.append(numero)\n",
    "    else:\n",
    "        impares.append(numero)\n",
    "\n",
    "\n",
    "print(\"Números digitados:\", numeros)\n",
    "print(\"Números pares:\", pares)\n",
    "print(\"Números ímpares:\", impares)"
   ]
  },
  {
   "cell_type": "markdown",
   "metadata": {},
   "source": []
  },
  {
   "cell_type": "code",
   "execution_count": null,
   "metadata": {},
   "outputs": [],
   "source": []
  }
 ],
 "metadata": {
  "language_info": {
   "name": "python"
  },
  "orig_nbformat": 4
 },
 "nbformat": 4,
 "nbformat_minor": 2
}
